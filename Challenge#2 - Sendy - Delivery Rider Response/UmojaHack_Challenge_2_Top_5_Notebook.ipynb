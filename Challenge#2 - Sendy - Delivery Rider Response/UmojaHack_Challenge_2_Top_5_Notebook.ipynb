{
  "nbformat": 4,
  "nbformat_minor": 0,
  "metadata": {
    "colab": {
      "name": "UmojaHack-Challenge#2--Top-5-Notebook.ipynb",
      "provenance": []
    },
    "kernelspec": {
      "name": "python3",
      "display_name": "Python 3"
    },
    "language_info": {
      "name": "python"
    },
    "accelerator": "GPU"
  },
  "cells": [
    {
      "cell_type": "markdown",
      "metadata": {
        "id": "0_GkbAolgh8Y"
      },
      "source": [
        "# **0- Setup**"
      ]
    },
    {
      "cell_type": "code",
      "metadata": {
        "colab": {
          "base_uri": "https://localhost:8080/"
        },
        "id": "rEhAteRNgPzj",
        "outputId": "c52ea8a8-6df6-41e1-b3da-290fb36472dc"
      },
      "source": [
        "!nvidia-smi"
      ],
      "execution_count": 1,
      "outputs": [
        {
          "output_type": "stream",
          "text": [
            "Mon Mar 29 05:42:48 2021       \n",
            "+-----------------------------------------------------------------------------+\n",
            "| NVIDIA-SMI 460.56       Driver Version: 460.32.03    CUDA Version: 11.2     |\n",
            "|-------------------------------+----------------------+----------------------+\n",
            "| GPU  Name        Persistence-M| Bus-Id        Disp.A | Volatile Uncorr. ECC |\n",
            "| Fan  Temp  Perf  Pwr:Usage/Cap|         Memory-Usage | GPU-Util  Compute M. |\n",
            "|                               |                      |               MIG M. |\n",
            "|===============================+======================+======================|\n",
            "|   0  Tesla T4            Off  | 00000000:00:04.0 Off |                    0 |\n",
            "| N/A   52C    P8    10W /  70W |      0MiB / 15109MiB |      0%      Default |\n",
            "|                               |                      |                  N/A |\n",
            "+-------------------------------+----------------------+----------------------+\n",
            "                                                                               \n",
            "+-----------------------------------------------------------------------------+\n",
            "| Processes:                                                                  |\n",
            "|  GPU   GI   CI        PID   Type   Process name                  GPU Memory |\n",
            "|        ID   ID                                                   Usage      |\n",
            "|=============================================================================|\n",
            "|  No running processes found                                                 |\n",
            "+-----------------------------------------------------------------------------+\n"
          ],
          "name": "stdout"
        }
      ]
    },
    {
      "cell_type": "code",
      "metadata": {
        "colab": {
          "base_uri": "https://localhost:8080/"
        },
        "id": "I_lAq_WCgYsh",
        "outputId": "9e08e71f-e682-44c2-823c-54212bd9d7ef"
      },
      "source": [
        "from google.colab import drive\n",
        "drive.mount('/content/drive')"
      ],
      "execution_count": 2,
      "outputs": [
        {
          "output_type": "stream",
          "text": [
            "Mounted at /content/drive\n"
          ],
          "name": "stdout"
        }
      ]
    },
    {
      "cell_type": "code",
      "metadata": {
        "id": "QkvLbUIIgabX"
      },
      "source": [
        "from zipfile import ZipFile\n",
        "path = '/content/drive/MyDrive/UHSendy.zip'\n",
        "with ZipFile(path) as zf:\n",
        "    zf.extractall(pwd=b'lpdsv')"
      ],
      "execution_count": 3,
      "outputs": []
    },
    {
      "cell_type": "code",
      "metadata": {
        "colab": {
          "base_uri": "https://localhost:8080/"
        },
        "id": "fCmaZQtTiiYx",
        "outputId": "346f5b08-5897-422c-d69f-9355d13bf855"
      },
      "source": [
        "!pip install catboost==0.22 --quiet"
      ],
      "execution_count": 23,
      "outputs": [
        {
          "output_type": "stream",
          "text": [
            "\u001b[K     |████████████████████████████████| 64.4MB 45kB/s \n",
            "\u001b[?25h"
          ],
          "name": "stdout"
        }
      ]
    },
    {
      "cell_type": "code",
      "metadata": {
        "id": "Ys3m4lEsggin"
      },
      "source": [
        "import pandas as  pd \n",
        "import numpy as np \n",
        "import warnings\n",
        "warnings.simplefilter('ignore')\n",
        "\n",
        "from sklearn.metrics import accuracy_score\n",
        "import random\n",
        "\n",
        "from sklearn.preprocessing import LabelEncoder\n",
        "from catboost import CatBoostClassifier ,Pool\n",
        "from sklearn.model_selection import train_test_split"
      ],
      "execution_count": 1,
      "outputs": []
    },
    {
      "cell_type": "code",
      "metadata": {
        "id": "DoOq7aH6neCn"
      },
      "source": [
        "class CFG :\n",
        "  catboost_params = {'learning_rate' :0.05,'iterations':10000,'random_seed':0,\n",
        "                     'use_best_model':True,'verbose':100,\n",
        "                     'task_type':\"GPU\",'devices':'0:1' }\n",
        "  catfs    = ['order_id','client_id','rider_id','client_type']\n",
        "  to_drop  = ['ID','target','vendor_type','dispatch_time',\"dispatch_hour\"]\n",
        "  tts_seed = 3031 \n",
        "  tts_ts   = 0.2"
      ],
      "execution_count": 6,
      "outputs": []
    },
    {
      "cell_type": "markdown",
      "metadata": {
        "id": "x4x4jMWngnN3"
      },
      "source": [
        "# **1- Pre-Processing**"
      ]
    },
    {
      "cell_type": "markdown",
      "metadata": {
        "id": "rTXimR_Igs5I"
      },
      "source": [
        "## **1.1 Utils**"
      ]
    },
    {
      "cell_type": "code",
      "metadata": {
        "id": "vq0OlBgSoH95"
      },
      "source": [
        "def seed_env(seed = 0):\n",
        "  '''SEED The envierment'''\n",
        "  random.seed(seed)\n",
        "  np.random.seed(seed)"
      ],
      "execution_count": 7,
      "outputs": []
    },
    {
      "cell_type": "code",
      "metadata": {
        "id": "q8WJX3v3ghGo"
      },
      "source": [
        "def bearing(lat1, lng1, lat2, lng2):\n",
        "    lon_rad = np.radians(lng2 - lng1)\n",
        "    lat1, lng1, lat2, lng2 = map(np.radians, (lat1, lng1, lat2, lng2))\n",
        "    \n",
        "    return np.degrees(np.arctan2(np.sin(lon_rad) * np.cos(lat2), np.cos(lat1) * np.sin(lat2) - np.sin(lat1) * np.cos(lat2) * np.cos(lon_rad)))"
      ],
      "execution_count": 8,
      "outputs": []
    },
    {
      "cell_type": "code",
      "metadata": {
        "id": "MadSPN1tgwDR"
      },
      "source": [
        "def get_time_features(data):\n",
        "  data['dispatch_time'] = pd.to_datetime(data['dispatch_time'])\n",
        "  data['dispatch_hour'] = data['dispatch_time'].dt.hour"
      ],
      "execution_count": 9,
      "outputs": []
    },
    {
      "cell_type": "code",
      "metadata": {
        "id": "dB6s64ojgypH"
      },
      "source": [
        "def process(train,test,riders) :\n",
        "  \n",
        "  data = pd.concat([train,test]).reset_index(drop=True)\n",
        "  # process riders \n",
        "  riders = riders.rename(columns = {'Rider ID' : \"rider_id\"})\n",
        "  \n",
        "  # Merge rider dataset to train and test sets\n",
        "  data = data.merge(riders, on = 'rider_id', how='left')\n",
        "  \n",
        "  # add hour feature\n",
        "  get_time_features(data)\n",
        "\n",
        "  # create combination feature\n",
        "  data['comb1'] = data['rider_id'].astype(str) + '-' + data['dispatch_hour'].astype(str)\n",
        "\n",
        "  # Other Feature engineering\n",
        "  data['RatingFactor_Rider'] = data['Average Partner Rating']*data['Number of Ratings']\n",
        "\n",
        "  # apply label encoder \n",
        "  LE = LabelEncoder()\n",
        "  LE_features = ['client_type','comb1',]\n",
        "  for feature in LE_features :\n",
        "    data[feature] = LE.fit_transform(data[feature].astype(str))\n",
        "\n",
        "  # create distances features \n",
        "  data['bearing_Rider_PickUp'] = bearing(data['rider_lat'], data['rider_long'], data['pickup_lat'], data['pickup_long'])\n",
        "\n",
        "  # Feature based on some eda \n",
        "  data['feature_eng_1'] = data['Number of Ratings'].apply(lambda x : 1 if x>150 else 0)\n",
        "  data['feature_eng_2'] = data['Average Partner Rating'].apply(lambda x : 1 if x>21 else 0)\n",
        "\n",
        "  # create agg per order_id \n",
        "  distance_statistics = data.groupby(by=\"order_id\",as_index=False).agg({'bearing_Rider_PickUp':['mean','min','max','std'],})\n",
        "  distance_statistics.columns = [\"_By_OrderId_\".join(x) for x in distance_statistics.columns.ravel()]\n",
        "  data = pd.merge(data,distance_statistics,how=\"left\",right_on=\"order_id_By_OrderId_\",left_on=\"order_id\")\n",
        "  del data['order_id_By_OrderId_']\n",
        "\n",
        "  # cyclic features \n",
        "  data['dispatch_day_cos'] = np.cos(data['dispatch_day'])\n",
        "  data['dispatch_day_sin'] = np.sin(data['dispatch_day']) \n",
        "\n",
        "  # get train , test\n",
        "  train = data[data['ID'].isin(train['ID'].values)]\n",
        "  test = data[~data['ID'].isin(train['ID'].values)]\n",
        "  return train , test "
      ],
      "execution_count": 10,
      "outputs": []
    },
    {
      "cell_type": "markdown",
      "metadata": {
        "id": "C6v2qkoiiAlg"
      },
      "source": [
        "## **1.2 Create Processed Train-Test**"
      ]
    },
    {
      "cell_type": "code",
      "metadata": {
        "id": "pyX879JVg1Kv"
      },
      "source": [
        "train = pd.read_csv('UHSendy/Train.csv')\n",
        "test = pd.read_csv('UHSendy/Test.csv')\n",
        "riders = pd.read_csv('UHSendy/Riders.csv')"
      ],
      "execution_count": 11,
      "outputs": []
    },
    {
      "cell_type": "code",
      "metadata": {
        "colab": {
          "base_uri": "https://localhost:8080/"
        },
        "id": "ResN_UtziG8H",
        "outputId": "f2993e7c-d008-4882-9f0e-98e7afbd08b4"
      },
      "source": [
        "%%time\n",
        "train , test  = process(train,test,riders)"
      ],
      "execution_count": 12,
      "outputs": [
        {
          "output_type": "stream",
          "text": [
            "CPU times: user 12.5 s, sys: 131 ms, total: 12.7 s\n",
            "Wall time: 12.7 s\n"
          ],
          "name": "stdout"
        }
      ]
    },
    {
      "cell_type": "code",
      "metadata": {
        "colab": {
          "base_uri": "https://localhost:8080/"
        },
        "id": "J4QYkMTIiLdn",
        "outputId": "733197d0-566e-43ab-c634-b9bc9106bee0"
      },
      "source": [
        "train.shape , test.shape"
      ],
      "execution_count": 13,
      "outputs": [
        {
          "output_type": "execute_result",
          "data": {
            "text/plain": [
              "((179867, 36), (76791, 36))"
            ]
          },
          "metadata": {
            "tags": []
          },
          "execution_count": 13
        }
      ]
    },
    {
      "cell_type": "code",
      "metadata": {
        "colab": {
          "base_uri": "https://localhost:8080/",
          "height": 343
        },
        "id": "rDfDgij1iQ4H",
        "outputId": "2b9a3680-35b3-4e62-e141-f1e09ec74dc4"
      },
      "source": [
        "train.head()"
      ],
      "execution_count": 14,
      "outputs": [
        {
          "output_type": "execute_result",
          "data": {
            "text/html": [
              "<div>\n",
              "<style scoped>\n",
              "    .dataframe tbody tr th:only-of-type {\n",
              "        vertical-align: middle;\n",
              "    }\n",
              "\n",
              "    .dataframe tbody tr th {\n",
              "        vertical-align: top;\n",
              "    }\n",
              "\n",
              "    .dataframe thead th {\n",
              "        text-align: right;\n",
              "    }\n",
              "</style>\n",
              "<table border=\"1\" class=\"dataframe\">\n",
              "  <thead>\n",
              "    <tr style=\"text-align: right;\">\n",
              "      <th></th>\n",
              "      <th>ID</th>\n",
              "      <th>order_id</th>\n",
              "      <th>dispatch_day</th>\n",
              "      <th>dispatch_day_of_week</th>\n",
              "      <th>dispatch_time</th>\n",
              "      <th>client_id</th>\n",
              "      <th>client_type</th>\n",
              "      <th>order_license_status</th>\n",
              "      <th>order_carrier_type</th>\n",
              "      <th>vendor_type</th>\n",
              "      <th>rider_id</th>\n",
              "      <th>rider_license_status</th>\n",
              "      <th>rider_carrier_type</th>\n",
              "      <th>rider_amount</th>\n",
              "      <th>rider_lat</th>\n",
              "      <th>rider_long</th>\n",
              "      <th>pickup_lat</th>\n",
              "      <th>pickup_long</th>\n",
              "      <th>drop_off_lat</th>\n",
              "      <th>drop_off_long</th>\n",
              "      <th>target</th>\n",
              "      <th>Active Rider Age</th>\n",
              "      <th>Average Partner Rating</th>\n",
              "      <th>Number of Ratings</th>\n",
              "      <th>dispatch_hour</th>\n",
              "      <th>comb1</th>\n",
              "      <th>RatingFactor_Rider</th>\n",
              "      <th>bearing_Rider_PickUp</th>\n",
              "      <th>feature_eng_1</th>\n",
              "      <th>feature_eng_2</th>\n",
              "      <th>bearing_Rider_PickUp_By_OrderId_mean</th>\n",
              "      <th>bearing_Rider_PickUp_By_OrderId_min</th>\n",
              "      <th>bearing_Rider_PickUp_By_OrderId_max</th>\n",
              "      <th>bearing_Rider_PickUp_By_OrderId_std</th>\n",
              "      <th>dispatch_day_cos</th>\n",
              "      <th>dispatch_day_sin</th>\n",
              "    </tr>\n",
              "  </thead>\n",
              "  <tbody>\n",
              "    <tr>\n",
              "      <th>0</th>\n",
              "      <td>ID_SCUW21PVAU</td>\n",
              "      <td>4435</td>\n",
              "      <td>27</td>\n",
              "      <td>6</td>\n",
              "      <td>2021-03-29 09:02:54</td>\n",
              "      <td>593630</td>\n",
              "      <td>0</td>\n",
              "      <td>0</td>\n",
              "      <td>2</td>\n",
              "      <td>Bike</td>\n",
              "      <td>30153</td>\n",
              "      <td>0</td>\n",
              "      <td>1</td>\n",
              "      <td>1080</td>\n",
              "      <td>-42.698343</td>\n",
              "      <td>-17.228539</td>\n",
              "      <td>-42.692371</td>\n",
              "      <td>-17.248305</td>\n",
              "      <td>-42.687442</td>\n",
              "      <td>-17.424682</td>\n",
              "      <td>1.0</td>\n",
              "      <td>11</td>\n",
              "      <td>10.00</td>\n",
              "      <td>1</td>\n",
              "      <td>9</td>\n",
              "      <td>3076</td>\n",
              "      <td>10.00</td>\n",
              "      <td>-67.659597</td>\n",
              "      <td>0</td>\n",
              "      <td>0</td>\n",
              "      <td>-52.037239</td>\n",
              "      <td>-70.030817</td>\n",
              "      <td>-18.421302</td>\n",
              "      <td>29.136388</td>\n",
              "      <td>-0.292139</td>\n",
              "      <td>0.956376</td>\n",
              "    </tr>\n",
              "    <tr>\n",
              "      <th>1</th>\n",
              "      <td>ID_2HA7X30JMN</td>\n",
              "      <td>32711</td>\n",
              "      <td>30</td>\n",
              "      <td>7</td>\n",
              "      <td>2021-03-29 13:01:37</td>\n",
              "      <td>837729</td>\n",
              "      <td>1</td>\n",
              "      <td>0</td>\n",
              "      <td>1</td>\n",
              "      <td>Bike</td>\n",
              "      <td>20884</td>\n",
              "      <td>0</td>\n",
              "      <td>1</td>\n",
              "      <td>730</td>\n",
              "      <td>-42.787317</td>\n",
              "      <td>-17.288252</td>\n",
              "      <td>-42.784046</td>\n",
              "      <td>-17.290121</td>\n",
              "      <td>-42.673267</td>\n",
              "      <td>-17.234595</td>\n",
              "      <td>2.0</td>\n",
              "      <td>68</td>\n",
              "      <td>24.13</td>\n",
              "      <td>229</td>\n",
              "      <td>13</td>\n",
              "      <td>2743</td>\n",
              "      <td>5525.77</td>\n",
              "      <td>-22.752722</td>\n",
              "      <td>1</td>\n",
              "      <td>1</td>\n",
              "      <td>-22.752722</td>\n",
              "      <td>-22.752722</td>\n",
              "      <td>-22.752722</td>\n",
              "      <td>NaN</td>\n",
              "      <td>0.154251</td>\n",
              "      <td>-0.988032</td>\n",
              "    </tr>\n",
              "    <tr>\n",
              "      <th>2</th>\n",
              "      <td>ID_IAJWDTBY6M</td>\n",
              "      <td>8712</td>\n",
              "      <td>14</td>\n",
              "      <td>2</td>\n",
              "      <td>2021-03-29 10:01:00</td>\n",
              "      <td>695129</td>\n",
              "      <td>1</td>\n",
              "      <td>0</td>\n",
              "      <td>2</td>\n",
              "      <td>Bike</td>\n",
              "      <td>33143</td>\n",
              "      <td>1</td>\n",
              "      <td>1</td>\n",
              "      <td>490</td>\n",
              "      <td>-42.749180</td>\n",
              "      <td>-17.287848</td>\n",
              "      <td>-42.765204</td>\n",
              "      <td>-17.293784</td>\n",
              "      <td>-42.813953</td>\n",
              "      <td>-17.294805</td>\n",
              "      <td>1.0</td>\n",
              "      <td>273</td>\n",
              "      <td>24.92</td>\n",
              "      <td>123</td>\n",
              "      <td>10</td>\n",
              "      <td>3163</td>\n",
              "      <td>3065.16</td>\n",
              "      <td>-164.786368</td>\n",
              "      <td>0</td>\n",
              "      <td>1</td>\n",
              "      <td>-19.722334</td>\n",
              "      <td>-164.786368</td>\n",
              "      <td>165.004835</td>\n",
              "      <td>110.149486</td>\n",
              "      <td>0.136737</td>\n",
              "      <td>0.990607</td>\n",
              "    </tr>\n",
              "    <tr>\n",
              "      <th>3</th>\n",
              "      <td>ID_LKSVPNYMTR</td>\n",
              "      <td>44869</td>\n",
              "      <td>22</td>\n",
              "      <td>3</td>\n",
              "      <td>2021-03-29 14:11:16</td>\n",
              "      <td>1504660</td>\n",
              "      <td>1</td>\n",
              "      <td>0</td>\n",
              "      <td>2</td>\n",
              "      <td>Bike</td>\n",
              "      <td>96531</td>\n",
              "      <td>1</td>\n",
              "      <td>1</td>\n",
              "      <td>510</td>\n",
              "      <td>-42.836266</td>\n",
              "      <td>-17.311920</td>\n",
              "      <td>-42.831913</td>\n",
              "      <td>-17.315311</td>\n",
              "      <td>-42.812409</td>\n",
              "      <td>-17.265441</td>\n",
              "      <td>2.0</td>\n",
              "      <td>168</td>\n",
              "      <td>23.76</td>\n",
              "      <td>175</td>\n",
              "      <td>14</td>\n",
              "      <td>6926</td>\n",
              "      <td>4158.00</td>\n",
              "      <td>-29.736604</td>\n",
              "      <td>1</td>\n",
              "      <td>1</td>\n",
              "      <td>13.261555</td>\n",
              "      <td>-29.736604</td>\n",
              "      <td>56.259714</td>\n",
              "      <td>60.808580</td>\n",
              "      <td>-0.999961</td>\n",
              "      <td>-0.008851</td>\n",
              "    </tr>\n",
              "    <tr>\n",
              "      <th>4</th>\n",
              "      <td>ID_O7N8Y918YH</td>\n",
              "      <td>57590</td>\n",
              "      <td>27</td>\n",
              "      <td>5</td>\n",
              "      <td>2021-03-29 16:11:38</td>\n",
              "      <td>36869</td>\n",
              "      <td>0</td>\n",
              "      <td>0</td>\n",
              "      <td>2</td>\n",
              "      <td>Bike</td>\n",
              "      <td>103546</td>\n",
              "      <td>0</td>\n",
              "      <td>0</td>\n",
              "      <td>400</td>\n",
              "      <td>-42.828195</td>\n",
              "      <td>-17.322818</td>\n",
              "      <td>-42.836056</td>\n",
              "      <td>-17.318111</td>\n",
              "      <td>-42.828517</td>\n",
              "      <td>-17.302052</td>\n",
              "      <td>0.0</td>\n",
              "      <td>95</td>\n",
              "      <td>24.53</td>\n",
              "      <td>42</td>\n",
              "      <td>16</td>\n",
              "      <td>583</td>\n",
              "      <td>1030.26</td>\n",
              "      <td>156.293680</td>\n",
              "      <td>0</td>\n",
              "      <td>1</td>\n",
              "      <td>31.471027</td>\n",
              "      <td>-140.023959</td>\n",
              "      <td>179.043252</td>\n",
              "      <td>122.179963</td>\n",
              "      <td>-0.292139</td>\n",
              "      <td>0.956376</td>\n",
              "    </tr>\n",
              "  </tbody>\n",
              "</table>\n",
              "</div>"
            ],
            "text/plain": [
              "              ID  order_id  ...  dispatch_day_cos  dispatch_day_sin\n",
              "0  ID_SCUW21PVAU      4435  ...         -0.292139          0.956376\n",
              "1  ID_2HA7X30JMN     32711  ...          0.154251         -0.988032\n",
              "2  ID_IAJWDTBY6M      8712  ...          0.136737          0.990607\n",
              "3  ID_LKSVPNYMTR     44869  ...         -0.999961         -0.008851\n",
              "4  ID_O7N8Y918YH     57590  ...         -0.292139          0.956376\n",
              "\n",
              "[5 rows x 36 columns]"
            ]
          },
          "metadata": {
            "tags": []
          },
          "execution_count": 14
        }
      ]
    },
    {
      "cell_type": "markdown",
      "metadata": {
        "id": "JaC2NeMpiV13"
      },
      "source": [
        "# **2-Modeling**"
      ]
    },
    {
      "cell_type": "code",
      "metadata": {
        "colab": {
          "base_uri": "https://localhost:8080/"
        },
        "id": "80xCTF0ciUNQ",
        "outputId": "a3f17c5f-0225-4076-e394-628136f0a004"
      },
      "source": [
        "features = [x for x in train.columns if x not in CFG.to_drop]\n",
        "len(features)"
      ],
      "execution_count": 15,
      "outputs": [
        {
          "output_type": "execute_result",
          "data": {
            "text/plain": [
              "31"
            ]
          },
          "metadata": {
            "tags": []
          },
          "execution_count": 15
        }
      ]
    },
    {
      "cell_type": "code",
      "metadata": {
        "id": "63pR0eqwjLrf"
      },
      "source": [
        "X = train[features]\n",
        "y = train.target\n",
        "X_train, X_test, y_train, y_test = train_test_split(X, y,test_size = CFG.tts_ts,random_state=CFG.tts_seed,stratify=y)"
      ],
      "execution_count": 16,
      "outputs": []
    },
    {
      "cell_type": "code",
      "metadata": {
        "id": "UD7joZrPjkHX"
      },
      "source": [
        "def Catboost(X_train, X_test, y_train, y_test,categorical_features) :\n",
        "  seed_env()\n",
        "\n",
        "  model = CatBoostClassifier(**CFG.catboost_params)\n",
        "  model.fit(Pool(X_train,y_train,cat_features = categorical_features),\n",
        "            eval_set = Pool(X_test,y_test,cat_features = categorical_features),\n",
        "            early_stopping_rounds=200)\n",
        "  \n",
        "  pred = model.predict(X_test)\n",
        "  print('score : ' , accuracy_score(y_test,pred))\n",
        "  return pred , model"
      ],
      "execution_count": 19,
      "outputs": []
    },
    {
      "cell_type": "code",
      "metadata": {
        "colab": {
          "base_uri": "https://localhost:8080/"
        },
        "id": "z584Calhj0OX",
        "outputId": "102c0c2a-a8ca-4ea9-a840-46e484501290"
      },
      "source": [
        "_ , model = Catboost(X_train, X_test, y_train, y_test,CFG.catfs)"
      ],
      "execution_count": 20,
      "outputs": [
        {
          "output_type": "stream",
          "text": [
            "0:\tlearn: 1.0732264\ttest: 1.0743475\tbest: 1.0743475 (0)\ttotal: 18.1ms\tremaining: 3m 1s\n",
            "100:\tlearn: 0.7899893\ttest: 0.7854243\tbest: 0.7854243 (100)\ttotal: 1.39s\tremaining: 2m 15s\n",
            "200:\tlearn: 0.7749337\ttest: 0.7719595\tbest: 0.7719595 (200)\ttotal: 2.52s\tremaining: 2m 3s\n",
            "300:\tlearn: 0.7651347\ttest: 0.7648160\tbest: 0.7648160 (300)\ttotal: 3.66s\tremaining: 1m 57s\n",
            "400:\tlearn: 0.7576502\ttest: 0.7602079\tbest: 0.7602079 (400)\ttotal: 4.77s\tremaining: 1m 54s\n",
            "500:\tlearn: 0.7512861\ttest: 0.7569831\tbest: 0.7569831 (500)\ttotal: 5.84s\tremaining: 1m 50s\n",
            "600:\tlearn: 0.7459381\ttest: 0.7546436\tbest: 0.7546436 (600)\ttotal: 6.91s\tremaining: 1m 48s\n",
            "700:\tlearn: 0.7410864\ttest: 0.7526755\tbest: 0.7526755 (700)\ttotal: 7.99s\tremaining: 1m 45s\n",
            "800:\tlearn: 0.7370023\ttest: 0.7513401\tbest: 0.7513401 (800)\ttotal: 9.11s\tremaining: 1m 44s\n",
            "900:\tlearn: 0.7328316\ttest: 0.7500171\tbest: 0.7500171 (900)\ttotal: 10.2s\tremaining: 1m 43s\n",
            "1000:\tlearn: 0.7290066\ttest: 0.7489914\tbest: 0.7489914 (1000)\ttotal: 11.3s\tremaining: 1m 41s\n",
            "1100:\tlearn: 0.7252179\ttest: 0.7479876\tbest: 0.7479876 (1100)\ttotal: 12.4s\tremaining: 1m 39s\n",
            "1200:\tlearn: 0.7217818\ttest: 0.7472824\tbest: 0.7472714 (1198)\ttotal: 13.4s\tremaining: 1m 38s\n",
            "1300:\tlearn: 0.7183354\ttest: 0.7465561\tbest: 0.7465561 (1300)\ttotal: 14.5s\tremaining: 1m 37s\n",
            "1400:\tlearn: 0.7149980\ttest: 0.7459526\tbest: 0.7459526 (1400)\ttotal: 15.6s\tremaining: 1m 35s\n",
            "1500:\tlearn: 0.7116983\ttest: 0.7454648\tbest: 0.7454648 (1500)\ttotal: 16.7s\tremaining: 1m 34s\n",
            "1600:\tlearn: 0.7085637\ttest: 0.7449874\tbest: 0.7449842 (1599)\ttotal: 17.7s\tremaining: 1m 33s\n",
            "1700:\tlearn: 0.7054200\ttest: 0.7443291\tbest: 0.7443291 (1700)\ttotal: 18.8s\tremaining: 1m 31s\n",
            "1800:\tlearn: 0.7024115\ttest: 0.7440123\tbest: 0.7440061 (1793)\ttotal: 19.9s\tremaining: 1m 30s\n",
            "1900:\tlearn: 0.6994873\ttest: 0.7435628\tbest: 0.7435628 (1900)\ttotal: 21s\tremaining: 1m 29s\n",
            "2000:\tlearn: 0.6964016\ttest: 0.7430662\tbest: 0.7430662 (2000)\ttotal: 22.1s\tremaining: 1m 28s\n",
            "2100:\tlearn: 0.6936285\ttest: 0.7427274\tbest: 0.7427274 (2100)\ttotal: 23.2s\tremaining: 1m 27s\n",
            "2200:\tlearn: 0.6909875\ttest: 0.7424907\tbest: 0.7424907 (2200)\ttotal: 24.3s\tremaining: 1m 26s\n",
            "2300:\tlearn: 0.6882518\ttest: 0.7422790\tbest: 0.7422746 (2299)\ttotal: 25.4s\tremaining: 1m 24s\n",
            "2400:\tlearn: 0.6856636\ttest: 0.7420546\tbest: 0.7420363 (2395)\ttotal: 26.4s\tremaining: 1m 23s\n",
            "2500:\tlearn: 0.6829306\ttest: 0.7419530\tbest: 0.7419073 (2465)\ttotal: 27.5s\tremaining: 1m 22s\n",
            "2600:\tlearn: 0.6803542\ttest: 0.7417085\tbest: 0.7417066 (2599)\ttotal: 28.6s\tremaining: 1m 21s\n",
            "2700:\tlearn: 0.6776721\ttest: 0.7414425\tbest: 0.7414420 (2699)\ttotal: 29.7s\tremaining: 1m 20s\n",
            "2800:\tlearn: 0.6751290\ttest: 0.7413030\tbest: 0.7412616 (2792)\ttotal: 30.8s\tremaining: 1m 19s\n",
            "2900:\tlearn: 0.6724916\ttest: 0.7410852\tbest: 0.7410824 (2893)\ttotal: 31.9s\tremaining: 1m 17s\n",
            "3000:\tlearn: 0.6700955\ttest: 0.7409556\tbest: 0.7409378 (2996)\ttotal: 32.9s\tremaining: 1m 16s\n",
            "3100:\tlearn: 0.6676189\ttest: 0.7407837\tbest: 0.7407837 (3100)\ttotal: 34s\tremaining: 1m 15s\n",
            "3200:\tlearn: 0.6650309\ttest: 0.7405805\tbest: 0.7405800 (3187)\ttotal: 35s\tremaining: 1m 14s\n",
            "3300:\tlearn: 0.6625360\ttest: 0.7405749\tbest: 0.7405409 (3238)\ttotal: 36.1s\tremaining: 1m 13s\n",
            "3400:\tlearn: 0.6601142\ttest: 0.7404465\tbest: 0.7404312 (3397)\ttotal: 37.2s\tremaining: 1m 12s\n",
            "3500:\tlearn: 0.6576508\ttest: 0.7403304\tbest: 0.7403304 (3500)\ttotal: 38.3s\tremaining: 1m 11s\n",
            "3600:\tlearn: 0.6551989\ttest: 0.7402607\tbest: 0.7402442 (3589)\ttotal: 39.4s\tremaining: 1m 9s\n",
            "3700:\tlearn: 0.6528966\ttest: 0.7402464\tbest: 0.7402045 (3681)\ttotal: 40.5s\tremaining: 1m 8s\n",
            "3800:\tlearn: 0.6505366\ttest: 0.7402054\tbest: 0.7401931 (3724)\ttotal: 41.7s\tremaining: 1m 7s\n",
            "3900:\tlearn: 0.6482315\ttest: 0.7401803\tbest: 0.7401248 (3820)\ttotal: 42.7s\tremaining: 1m 6s\n",
            "4000:\tlearn: 0.6460277\ttest: 0.7402868\tbest: 0.7401248 (3820)\ttotal: 43.8s\tremaining: 1m 5s\n",
            "bestTest = 0.7401248124\n",
            "bestIteration = 3820\n",
            "Shrink model to first 3821 iterations.\n",
            "score :  0.6668983154500473\n"
          ],
          "name": "stdout"
        }
      ]
    },
    {
      "cell_type": "code",
      "metadata": {
        "id": "FMRjEnpKj4aX"
      },
      "source": [
        "Catb_Predictions = model.predict(test[features])"
      ],
      "execution_count": 21,
      "outputs": []
    },
    {
      "cell_type": "code",
      "metadata": {
        "id": "LTFGlc6QkdmX"
      },
      "source": [
        "# create submission file \n",
        "submission_cat = pd.DataFrame()\n",
        "submission_cat['ID'] = test['ID']\n",
        "submission_cat['target'] = Catb_Predictions\n",
        "submission_cat['target'] = submission_cat['target'].astype('int')"
      ],
      "execution_count": 22,
      "outputs": []
    },
    {
      "cell_type": "code",
      "metadata": {
        "id": "AZ38u-J2kkj3"
      },
      "source": [
        "submission_cat.to_csv('UmojaHack_Challenge#2_Top_5_Notebook.csv',index=False)"
      ],
      "execution_count": 23,
      "outputs": []
    }
  ]
}