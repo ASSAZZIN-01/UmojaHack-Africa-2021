{
  "nbformat": 4,
  "nbformat_minor": 0,
  "metadata": {
    "kernelspec": {
      "language": "python",
      "display_name": "Python 3",
      "name": "python3"
    },
    "language_info": {
      "pygments_lexer": "ipython3",
      "nbconvert_exporter": "python",
      "version": "3.6.4",
      "file_extension": ".py",
      "codemirror_mode": {
        "name": "ipython",
        "version": 3
      },
      "name": "python",
      "mimetype": "text/x-python"
    },
    "colab": {
      "name": "UmojaHack-Challenge#3-Top3-Solution",
      "provenance": []
    },
    "accelerator": "GPU"
  },
  "cells": [
    {
      "cell_type": "markdown",
      "metadata": {
        "id": "NnOKkgcIzTjZ"
      },
      "source": [
        "# **0-Setup**"
      ]
    },
    {
      "cell_type": "code",
      "metadata": {
        "colab": {
          "base_uri": "https://localhost:8080/"
        },
        "id": "-Vau_ABp2vOW",
        "outputId": "bbfe4dfe-82fd-46ad-ceab-d5eb7d4428df"
      },
      "source": [
        "!nvidia-smi"
      ],
      "execution_count": 1,
      "outputs": [
        {
          "output_type": "stream",
          "text": [
            "Mon Mar 29 07:20:02 2021       \n",
            "+-----------------------------------------------------------------------------+\n",
            "| NVIDIA-SMI 460.56       Driver Version: 460.32.03    CUDA Version: 11.2     |\n",
            "|-------------------------------+----------------------+----------------------+\n",
            "| GPU  Name        Persistence-M| Bus-Id        Disp.A | Volatile Uncorr. ECC |\n",
            "| Fan  Temp  Perf  Pwr:Usage/Cap|         Memory-Usage | GPU-Util  Compute M. |\n",
            "|                               |                      |               MIG M. |\n",
            "|===============================+======================+======================|\n",
            "|   0  Tesla T4            Off  | 00000000:00:04.0 Off |                    0 |\n",
            "| N/A   59C    P8    10W /  70W |      0MiB / 15109MiB |      0%      Default |\n",
            "|                               |                      |                  N/A |\n",
            "+-------------------------------+----------------------+----------------------+\n",
            "                                                                               \n",
            "+-----------------------------------------------------------------------------+\n",
            "| Processes:                                                                  |\n",
            "|  GPU   GI   CI        PID   Type   Process name                  GPU Memory |\n",
            "|        ID   ID                                                   Usage      |\n",
            "|=============================================================================|\n",
            "|  No running processes found                                                 |\n",
            "+-----------------------------------------------------------------------------+\n"
          ],
          "name": "stdout"
        }
      ]
    },
    {
      "cell_type": "code",
      "metadata": {
        "colab": {
          "base_uri": "https://localhost:8080/"
        },
        "id": "DtryaSE72ztN",
        "outputId": "2666d843-81a4-4bba-eb30-d6dfde6d3563"
      },
      "source": [
        "from google.colab import drive\n",
        "drive.mount('/content/drive')"
      ],
      "execution_count": 3,
      "outputs": [
        {
          "output_type": "stream",
          "text": [
            "Mounted at /content/drive\n"
          ],
          "name": "stdout"
        }
      ]
    },
    {
      "cell_type": "code",
      "metadata": {
        "id": "hd4izwWj2zqc"
      },
      "source": [
        "from zipfile import ZipFile\n",
        "path = '/content/drive/MyDrive/UHFinancialResilience.zip'\n",
        "with ZipFile(path) as zf:\n",
        "    zf.extractall(pwd=b'lpdsv')"
      ],
      "execution_count": 4,
      "outputs": []
    },
    {
      "cell_type": "code",
      "metadata": {
        "colab": {
          "base_uri": "https://localhost:8080/"
        },
        "id": "qo63ARW40l7I",
        "outputId": "25593c98-2971-4156-a8e3-2e6d9358ea38"
      },
      "source": [
        "!pip install catboost==0.22 --quiet"
      ],
      "execution_count": 8,
      "outputs": [
        {
          "output_type": "stream",
          "text": [
            "\u001b[K     |████████████████████████████████| 64.4MB 46kB/s \n",
            "\u001b[?25h"
          ],
          "name": "stdout"
        }
      ]
    },
    {
      "cell_type": "code",
      "metadata": {
        "_uuid": "8f2839f25d086af736a60e9eeb907d3b93b6e0e5",
        "_cell_guid": "b1076dfc-b9ad-4769-8c92-a6c4dae69d19",
        "trusted": true,
        "id": "8w2Q1hri2QI8"
      },
      "source": [
        "import os, sys, gc, warnings, random\n",
        "import numpy as np \n",
        "import pandas as pd \n",
        "from sklearn.model_selection import StratifiedKFold\n",
        "from sklearn import preprocessing\n",
        "import lightgbm as lgb  \n",
        "from catboost import CatBoostClassifier ,Pool\n",
        "\n",
        "from sklearn.metrics import auc, classification_report, roc_auc_score\n",
        "from lightgbm import LGBMClassifier\n",
        "from sklearn.ensemble import RandomForestClassifier\n",
        "\n",
        "import matplotlib.pyplot as plt\n",
        "import seaborn as sns\n",
        "%matplotlib inline\n",
        "\n",
        "import warnings\n",
        "warnings.filterwarnings('ignore')"
      ],
      "execution_count": 2,
      "outputs": []
    },
    {
      "cell_type": "code",
      "metadata": {
        "trusted": true,
        "id": "v-wyD3OW2QJD"
      },
      "source": [
        "# Import libraries\n",
        "import pandas as pd\n",
        "pd.set_option('max_colwidth', 500)\n",
        "import numpy as np\n",
        "\n"
      ],
      "execution_count": 3,
      "outputs": []
    },
    {
      "cell_type": "code",
      "metadata": {
        "id": "JPpmNqsbz_13"
      },
      "source": [
        "class CFG :\n",
        "  SEED = 42\n",
        "  n_splits = 5\n",
        "  catboost_params = {'learning_rate':0.05,'iterations':10000,'eval_metric':'AUC',\n",
        "                      'use_best_model' :True,'verbose':100,'random_seed': 0,\n",
        "                      'devices':'0:1','task_type':\"GPU\",}\n",
        "\n",
        "  lgb_params = {'boosting_type': 'gbdt','objective': 'binary','metric': 'auc',\n",
        "                'n_estimators': 500,'sub_sample' : 0.7,'colsample_bytree' : 0.6,\n",
        "                'seed': SEED,'silent':False,'early_stopping_rounds': 100,\n",
        "               }\n",
        "  remove_features = ['ID', 'country', 'region','target']\n",
        "  categ_features = ['country_code','region_code']\n",
        "  TARGET_COL = 'target'"
      ],
      "execution_count": 4,
      "outputs": []
    },
    {
      "cell_type": "markdown",
      "metadata": {
        "id": "DifsxuEazfef"
      },
      "source": [
        "# **1-Pre-Processing**"
      ]
    },
    {
      "cell_type": "markdown",
      "metadata": {
        "id": "Z_i897WqzlMf"
      },
      "source": [
        "## **1.1 Utils**"
      ]
    },
    {
      "cell_type": "code",
      "metadata": {
        "id": "4SqVQ_GCze4-"
      },
      "source": [
        "def seed_everything(seed):\n",
        "    random.seed(seed)\n",
        "    np.random.seed(seed)"
      ],
      "execution_count": 5,
      "outputs": []
    },
    {
      "cell_type": "code",
      "metadata": {
        "id": "8FwJJUr8znw3"
      },
      "source": [
        "def Encode(train,test) :\n",
        "  label_encoder = preprocessing.LabelEncoder()\n",
        "  train['country_code']= label_encoder.fit_transform(train['country'])\n",
        "  test['country_code']= label_encoder.transform(test['country'])\n",
        "\n",
        "  label_encoder2 = preprocessing.LabelEncoder()\n",
        "  train['region_code']= label_encoder2.fit_transform(train['region'].astype(str))\n",
        "  test['region_code']= label_encoder2.transform(test['region'].astype(str))"
      ],
      "execution_count": 6,
      "outputs": []
    },
    {
      "cell_type": "markdown",
      "metadata": {
        "id": "P2UbRPCvz4aQ"
      },
      "source": [
        "## **1.2 Process**"
      ]
    },
    {
      "cell_type": "code",
      "metadata": {
        "trusted": true,
        "id": "3HJjr1OI2QJE"
      },
      "source": [
        "# Load files\n",
        "train = pd.read_csv('FinancialResilience/Train.csv')\n",
        "test = pd.read_csv('FinancialResilience/Test.csv')\n",
        "samplesubmission = pd.read_csv('FinancialResilience/SampleSubmission.csv')\n",
        "variable_definations = pd.read_csv('FinancialResilience/VariableDefinitions.csv')"
      ],
      "execution_count": 7,
      "outputs": []
    },
    {
      "cell_type": "code",
      "metadata": {
        "id": "QuvQIFU5z9V5"
      },
      "source": [
        "seed_everything(CFG.SEED)"
      ],
      "execution_count": 8,
      "outputs": []
    },
    {
      "cell_type": "code",
      "metadata": {
        "id": "s7VMH5zcz71-"
      },
      "source": [
        "Encode(train,test)"
      ],
      "execution_count": 9,
      "outputs": []
    },
    {
      "cell_type": "markdown",
      "metadata": {
        "id": "z7EF7VF52QJF"
      },
      "source": [
        "# **2-Modeling**"
      ]
    },
    {
      "cell_type": "markdown",
      "metadata": {
        "id": "F-6T3oAW3ldT"
      },
      "source": [
        "## **2.1 Catboost**"
      ]
    },
    {
      "cell_type": "code",
      "metadata": {
        "id": "gRYMRA4SD6Fv",
        "colab": {
          "base_uri": "https://localhost:8080/"
        },
        "outputId": "ee268c6b-46b3-4234-f690-c87a50ce9b6d"
      },
      "source": [
        "features_columns = [col for col in train.columns if col not in CFG.remove_features]\n",
        "len(features_columns)"
      ],
      "execution_count": 10,
      "outputs": [
        {
          "output_type": "execute_result",
          "data": {
            "text/plain": [
              "34"
            ]
          },
          "metadata": {
            "tags": []
          },
          "execution_count": 10
        }
      ]
    },
    {
      "cell_type": "code",
      "metadata": {
        "id": "lM8paB7AAyRw",
        "colab": {
          "base_uri": "https://localhost:8080/"
        },
        "outputId": "1edc38ec-39d4-4531-94a9-b98d2343c92c"
      },
      "source": [
        "skf = StratifiedKFold(n_splits=CFG.n_splits,shuffle=True, random_state=CFG.SEED)\n",
        "\n",
        "X , y   = train[features_columns] , train[CFG.TARGET_COL]\n",
        "\n",
        "oof_cat = np.zeros((train.shape[0],))\n",
        "test['target'] = 0\n",
        "cat_preds= []\n",
        "\n",
        "for fold_, (trn_idx, val_idx) in enumerate(skf.split(X, train.country)):\n",
        "    print(50*'-')\n",
        "    print('Fold:',fold_+1)\n",
        "    X_train, y_train = X.iloc[trn_idx,:], y[trn_idx] \n",
        "    X_test, y_test = X.iloc[val_idx,:], y[val_idx] \n",
        "       \n",
        "    estimator = CatBoostClassifier(**CFG.catboost_params)\n",
        "    estimator.fit(Pool(X_train,y_train,cat_features = CFG.categ_features),\n",
        "                  eval_set = Pool(X_test,y_test,cat_features = CFG.categ_features),\n",
        "                  early_stopping_rounds=200)\n",
        "    \n",
        "    y_pred_val = estimator.predict_proba(X_test)[:,1]\n",
        "    oof_cat[val_idx] = y_pred_val\n",
        "    y_pred_test = estimator.predict_proba(test[features_columns])[:,1]\n",
        "    cat_preds.append(y_pred_test)\n",
        "    print(50*'-')\n",
        "    print()\n",
        "print('OOF score :',roc_auc_score(y, oof_cat)) "
      ],
      "execution_count": 11,
      "outputs": [
        {
          "output_type": "stream",
          "text": [
            "--------------------------------------------------\n",
            "Fold: 1\n",
            "0:\tlearn: 0.7462481\ttest: 0.7486294\tbest: 0.7486294 (0)\ttotal: 39ms\tremaining: 6m 29s\n",
            "100:\tlearn: 0.7948141\ttest: 0.7951517\tbest: 0.7951517 (100)\ttotal: 2.52s\tremaining: 4m 6s\n",
            "200:\tlearn: 0.8018715\ttest: 0.7992485\tbest: 0.7992485 (200)\ttotal: 4.7s\tremaining: 3m 49s\n",
            "300:\tlearn: 0.8065882\ttest: 0.8011629\tbest: 0.8011629 (300)\ttotal: 6.88s\tremaining: 3m 41s\n",
            "400:\tlearn: 0.8104564\ttest: 0.8023694\tbest: 0.8023694 (400)\ttotal: 9.01s\tremaining: 3m 35s\n",
            "500:\tlearn: 0.8136609\ttest: 0.8030018\tbest: 0.8030077 (497)\ttotal: 11.2s\tremaining: 3m 32s\n",
            "600:\tlearn: 0.8164283\ttest: 0.8034565\tbest: 0.8034609 (598)\ttotal: 13.3s\tremaining: 3m 28s\n",
            "700:\tlearn: 0.8189570\ttest: 0.8037618\tbest: 0.8037728 (694)\ttotal: 15.6s\tremaining: 3m 26s\n",
            "800:\tlearn: 0.8213631\ttest: 0.8040206\tbest: 0.8040414 (794)\ttotal: 17.8s\tremaining: 3m 24s\n",
            "900:\tlearn: 0.8237404\ttest: 0.8043837\tbest: 0.8043870 (899)\ttotal: 19.9s\tremaining: 3m 21s\n",
            "1000:\tlearn: 0.8258016\ttest: 0.8045661\tbest: 0.8045876 (989)\ttotal: 22.1s\tremaining: 3m 18s\n",
            "1100:\tlearn: 0.8279004\ttest: 0.8047166\tbest: 0.8047206 (1097)\ttotal: 24.4s\tremaining: 3m 16s\n",
            "1200:\tlearn: 0.8299792\ttest: 0.8048372\tbest: 0.8048372 (1200)\ttotal: 26.6s\tremaining: 3m 14s\n",
            "1300:\tlearn: 0.8320056\ttest: 0.8049042\tbest: 0.8049151 (1258)\ttotal: 28.8s\tremaining: 3m 12s\n",
            "1400:\tlearn: 0.8339542\ttest: 0.8049864\tbest: 0.8049881 (1397)\ttotal: 31s\tremaining: 3m 10s\n",
            "1500:\tlearn: 0.8358030\ttest: 0.8050323\tbest: 0.8050385 (1494)\ttotal: 33.2s\tremaining: 3m 7s\n",
            "1600:\tlearn: 0.8376517\ttest: 0.8051468\tbest: 0.8051510 (1599)\ttotal: 35.4s\tremaining: 3m 5s\n",
            "1700:\tlearn: 0.8393217\ttest: 0.8051874\tbest: 0.8051985 (1696)\ttotal: 37.7s\tremaining: 3m 3s\n",
            "1800:\tlearn: 0.8410119\ttest: 0.8052539\tbest: 0.8052595 (1798)\ttotal: 40s\tremaining: 3m 2s\n",
            "1900:\tlearn: 0.8426664\ttest: 0.8053214\tbest: 0.8053650 (1884)\ttotal: 42.2s\tremaining: 2m 59s\n",
            "2000:\tlearn: 0.8443276\ttest: 0.8052744\tbest: 0.8053650 (1884)\ttotal: 44.3s\tremaining: 2m 57s\n",
            "bestTest = 0.8053649962\n",
            "bestIteration = 1884\n",
            "Shrink model to first 1885 iterations.\n",
            "--------------------------------------------------\n",
            "\n",
            "--------------------------------------------------\n",
            "Fold: 2\n",
            "0:\tlearn: 0.7498209\ttest: 0.7480360\tbest: 0.7480360 (0)\ttotal: 37ms\tremaining: 6m 9s\n",
            "100:\tlearn: 0.7956678\ttest: 0.7907229\tbest: 0.7907229 (100)\ttotal: 2.39s\tremaining: 3m 54s\n",
            "200:\tlearn: 0.8024419\ttest: 0.7952886\tbest: 0.7952886 (200)\ttotal: 4.63s\tremaining: 3m 45s\n",
            "300:\tlearn: 0.8070553\ttest: 0.7976009\tbest: 0.7976009 (300)\ttotal: 6.82s\tremaining: 3m 39s\n",
            "400:\tlearn: 0.8107059\ttest: 0.7988921\tbest: 0.7988921 (400)\ttotal: 8.94s\tremaining: 3m 33s\n",
            "500:\tlearn: 0.8137662\ttest: 0.7996331\tbest: 0.7996335 (499)\ttotal: 11s\tremaining: 3m 29s\n",
            "600:\tlearn: 0.8163692\ttest: 0.8001414\tbest: 0.8001493 (592)\ttotal: 13.2s\tremaining: 3m 26s\n",
            "700:\tlearn: 0.8188717\ttest: 0.8006124\tbest: 0.8006124 (699)\ttotal: 15.5s\tremaining: 3m 25s\n",
            "800:\tlearn: 0.8212525\ttest: 0.8010215\tbest: 0.8010385 (792)\ttotal: 17.7s\tremaining: 3m 23s\n",
            "900:\tlearn: 0.8234203\ttest: 0.8012948\tbest: 0.8013026 (897)\ttotal: 19.9s\tremaining: 3m 21s\n",
            "1000:\tlearn: 0.8256869\ttest: 0.8014781\tbest: 0.8014855 (998)\ttotal: 22.1s\tremaining: 3m 18s\n",
            "1100:\tlearn: 0.8277756\ttest: 0.8016986\tbest: 0.8017039 (1080)\ttotal: 24.3s\tremaining: 3m 16s\n",
            "1200:\tlearn: 0.8296661\ttest: 0.8017316\tbest: 0.8017468 (1198)\ttotal: 26.5s\tremaining: 3m 14s\n",
            "1300:\tlearn: 0.8315946\ttest: 0.8018061\tbest: 0.8018350 (1278)\ttotal: 28.7s\tremaining: 3m 12s\n",
            "1400:\tlearn: 0.8333910\ttest: 0.8018312\tbest: 0.8018987 (1364)\ttotal: 30.9s\tremaining: 3m 9s\n",
            "1500:\tlearn: 0.8350933\ttest: 0.8018204\tbest: 0.8018987 (1364)\ttotal: 33.2s\tremaining: 3m 7s\n",
            "bestTest = 0.8018987179\n",
            "bestIteration = 1364\n",
            "Shrink model to first 1365 iterations.\n",
            "--------------------------------------------------\n",
            "\n",
            "--------------------------------------------------\n",
            "Fold: 3\n",
            "0:\tlearn: 0.7482909\ttest: 0.7506087\tbest: 0.7506087 (0)\ttotal: 23.8ms\tremaining: 3m 57s\n",
            "100:\tlearn: 0.7959581\ttest: 0.7926023\tbest: 0.7926023 (100)\ttotal: 2.31s\tremaining: 3m 46s\n",
            "200:\tlearn: 0.8026282\ttest: 0.7963722\tbest: 0.7963778 (199)\ttotal: 4.48s\tremaining: 3m 38s\n",
            "300:\tlearn: 0.8073141\ttest: 0.7980774\tbest: 0.7980774 (300)\ttotal: 6.63s\tremaining: 3m 33s\n",
            "400:\tlearn: 0.8109858\ttest: 0.7990092\tbest: 0.7990099 (398)\ttotal: 8.85s\tremaining: 3m 31s\n",
            "500:\tlearn: 0.8141175\ttest: 0.7996458\tbest: 0.7996458 (500)\ttotal: 11.1s\tremaining: 3m 30s\n",
            "600:\tlearn: 0.8169297\ttest: 0.8000157\tbest: 0.8000157 (600)\ttotal: 13.3s\tremaining: 3m 28s\n",
            "700:\tlearn: 0.8193744\ttest: 0.8000786\tbest: 0.8001304 (691)\ttotal: 15.5s\tremaining: 3m 26s\n",
            "800:\tlearn: 0.8218745\ttest: 0.8002318\tbest: 0.8002363 (790)\ttotal: 17.8s\tremaining: 3m 24s\n",
            "900:\tlearn: 0.8243252\ttest: 0.8004613\tbest: 0.8004695 (892)\ttotal: 20.1s\tremaining: 3m 22s\n",
            "1000:\tlearn: 0.8265856\ttest: 0.8005758\tbest: 0.8005843 (999)\ttotal: 22.3s\tremaining: 3m 20s\n",
            "1100:\tlearn: 0.8286828\ttest: 0.8006188\tbest: 0.8006441 (1049)\ttotal: 24.5s\tremaining: 3m 18s\n",
            "1200:\tlearn: 0.8305390\ttest: 0.8004762\tbest: 0.8006441 (1049)\ttotal: 26.7s\tremaining: 3m 15s\n",
            "bestTest = 0.8006440699\n",
            "bestIteration = 1049\n",
            "Shrink model to first 1050 iterations.\n",
            "--------------------------------------------------\n",
            "\n",
            "--------------------------------------------------\n",
            "Fold: 4\n",
            "0:\tlearn: 0.7453113\ttest: 0.7417352\tbest: 0.7417352 (0)\ttotal: 23.4ms\tremaining: 3m 54s\n",
            "100:\tlearn: 0.7944874\ttest: 0.7939737\tbest: 0.7939737 (100)\ttotal: 2.25s\tremaining: 3m 40s\n",
            "200:\tlearn: 0.8015058\ttest: 0.7983997\tbest: 0.7983997 (200)\ttotal: 4.49s\tremaining: 3m 39s\n",
            "300:\tlearn: 0.8062182\ttest: 0.8004809\tbest: 0.8004861 (299)\ttotal: 6.64s\tremaining: 3m 33s\n",
            "400:\tlearn: 0.8098219\ttest: 0.8017541\tbest: 0.8017597 (399)\ttotal: 8.78s\tremaining: 3m 30s\n",
            "500:\tlearn: 0.8129885\ttest: 0.8026218\tbest: 0.8026479 (497)\ttotal: 10.9s\tremaining: 3m 27s\n",
            "600:\tlearn: 0.8157724\ttest: 0.8031155\tbest: 0.8031210 (597)\ttotal: 13.2s\tremaining: 3m 25s\n",
            "700:\tlearn: 0.8183806\ttest: 0.8037188\tbest: 0.8037341 (696)\ttotal: 15.4s\tremaining: 3m 24s\n",
            "800:\tlearn: 0.8207814\ttest: 0.8042617\tbest: 0.8042617 (800)\ttotal: 17.6s\tremaining: 3m 21s\n",
            "900:\tlearn: 0.8231049\ttest: 0.8044860\tbest: 0.8044860 (900)\ttotal: 19.7s\tremaining: 3m 18s\n",
            "1000:\tlearn: 0.8252012\ttest: 0.8047396\tbest: 0.8047451 (998)\ttotal: 22s\tremaining: 3m 17s\n",
            "1100:\tlearn: 0.8272644\ttest: 0.8049408\tbest: 0.8049428 (1095)\ttotal: 24.3s\tremaining: 3m 16s\n",
            "1200:\tlearn: 0.8292840\ttest: 0.8050243\tbest: 0.8050523 (1184)\ttotal: 26.5s\tremaining: 3m 14s\n",
            "1300:\tlearn: 0.8313668\ttest: 0.8051641\tbest: 0.8051641 (1300)\ttotal: 28.7s\tremaining: 3m 11s\n",
            "1400:\tlearn: 0.8331286\ttest: 0.8052776\tbest: 0.8052857 (1399)\ttotal: 31s\tremaining: 3m 10s\n",
            "1500:\tlearn: 0.8350363\ttest: 0.8055240\tbest: 0.8055240 (1500)\ttotal: 33.3s\tremaining: 3m 8s\n",
            "1600:\tlearn: 0.8368114\ttest: 0.8056378\tbest: 0.8056462 (1596)\ttotal: 35.5s\tremaining: 3m 6s\n",
            "1700:\tlearn: 0.8385268\ttest: 0.8057137\tbest: 0.8057249 (1699)\ttotal: 37.6s\tremaining: 3m 3s\n",
            "1800:\tlearn: 0.8402945\ttest: 0.8057246\tbest: 0.8057404 (1795)\ttotal: 39.8s\tremaining: 3m 1s\n",
            "1900:\tlearn: 0.8419570\ttest: 0.8056874\tbest: 0.8057404 (1795)\ttotal: 42s\tremaining: 2m 59s\n",
            "2000:\tlearn: 0.8436834\ttest: 0.8057783\tbest: 0.8057806 (1999)\ttotal: 44.2s\tremaining: 2m 56s\n",
            "2100:\tlearn: 0.8452792\ttest: 0.8057848\tbest: 0.8058044 (2072)\ttotal: 46.5s\tremaining: 2m 54s\n",
            "2200:\tlearn: 0.8467580\ttest: 0.8057152\tbest: 0.8058206 (2142)\ttotal: 48.7s\tremaining: 2m 52s\n",
            "2300:\tlearn: 0.8482133\ttest: 0.8058071\tbest: 0.8058206 (2142)\ttotal: 51.1s\tremaining: 2m 50s\n",
            "2400:\tlearn: 0.8496135\ttest: 0.8057721\tbest: 0.8058701 (2331)\ttotal: 53.3s\tremaining: 2m 48s\n",
            "2500:\tlearn: 0.8511100\ttest: 0.8057557\tbest: 0.8058701 (2331)\ttotal: 55.5s\tremaining: 2m 46s\n",
            "bestTest = 0.8058700562\n",
            "bestIteration = 2331\n",
            "Shrink model to first 2332 iterations.\n",
            "--------------------------------------------------\n",
            "\n",
            "--------------------------------------------------\n",
            "Fold: 5\n",
            "0:\tlearn: 0.7476033\ttest: 0.7517107\tbest: 0.7517107 (0)\ttotal: 40.7ms\tremaining: 6m 47s\n",
            "100:\tlearn: 0.7946340\ttest: 0.7957894\tbest: 0.7957894 (100)\ttotal: 2.45s\tremaining: 3m 59s\n",
            "200:\tlearn: 0.8018569\ttest: 0.7999956\tbest: 0.7999956 (200)\ttotal: 4.72s\tremaining: 3m 50s\n",
            "300:\tlearn: 0.8065798\ttest: 0.8014749\tbest: 0.8014770 (299)\ttotal: 6.92s\tremaining: 3m 43s\n",
            "400:\tlearn: 0.8103900\ttest: 0.8023877\tbest: 0.8023877 (400)\ttotal: 9.13s\tremaining: 3m 38s\n",
            "500:\tlearn: 0.8135481\ttest: 0.8030236\tbest: 0.8030236 (500)\ttotal: 11.4s\tremaining: 3m 35s\n",
            "600:\tlearn: 0.8162798\ttest: 0.8034983\tbest: 0.8034983 (600)\ttotal: 13.5s\tremaining: 3m 31s\n",
            "700:\tlearn: 0.8187929\ttest: 0.8038946\tbest: 0.8039040 (694)\ttotal: 15.7s\tremaining: 3m 28s\n",
            "800:\tlearn: 0.8211975\ttest: 0.8042559\tbest: 0.8042559 (800)\ttotal: 17.9s\tremaining: 3m 25s\n",
            "900:\tlearn: 0.8234829\ttest: 0.8044909\tbest: 0.8045018 (889)\ttotal: 20.2s\tremaining: 3m 23s\n",
            "1000:\tlearn: 0.8257363\ttest: 0.8046256\tbest: 0.8046266 (999)\ttotal: 22.4s\tremaining: 3m 21s\n",
            "1100:\tlearn: 0.8279218\ttest: 0.8047933\tbest: 0.8048024 (1099)\ttotal: 24.6s\tremaining: 3m 18s\n",
            "1200:\tlearn: 0.8298816\ttest: 0.8048531\tbest: 0.8048638 (1192)\ttotal: 26.8s\tremaining: 3m 16s\n",
            "1300:\tlearn: 0.8320143\ttest: 0.8048607\tbest: 0.8049199 (1245)\ttotal: 29.1s\tremaining: 3m 14s\n",
            "1400:\tlearn: 0.8339187\ttest: 0.8048647\tbest: 0.8049243 (1339)\ttotal: 31.3s\tremaining: 3m 12s\n",
            "1500:\tlearn: 0.8357677\ttest: 0.8048612\tbest: 0.8049243 (1339)\ttotal: 33.5s\tremaining: 3m 9s\n",
            "bestTest = 0.8049242795\n",
            "bestIteration = 1339\n",
            "Shrink model to first 1340 iterations.\n",
            "--------------------------------------------------\n",
            "\n",
            "OOF score : 0.8037272084328954\n"
          ],
          "name": "stdout"
        }
      ]
    },
    {
      "cell_type": "code",
      "metadata": {
        "id": "K4edUJPsDZ5I"
      },
      "source": [
        "catboost_preds = np.mean(cat_preds,axis=0)"
      ],
      "execution_count": 12,
      "outputs": []
    },
    {
      "cell_type": "markdown",
      "metadata": {
        "id": "IeAzXdIy3juU"
      },
      "source": [
        "## **2.2 LGBM**"
      ]
    },
    {
      "cell_type": "code",
      "metadata": {
        "trusted": true,
        "colab": {
          "base_uri": "https://localhost:8080/"
        },
        "id": "U_01IcGp2QJG",
        "outputId": "459e47db-ac76-4c8a-8bcd-13700e4bfbd1"
      },
      "source": [
        "skf = StratifiedKFold(n_splits=CFG.n_splits,shuffle=True, random_state=CFG.SEED)\n",
        "\n",
        "X , y   = train[features_columns] , train[CFG.TARGET_COL]\n",
        "\n",
        "oof_lgb = np.zeros((train.shape[0],))\n",
        "test['target'] = 0\n",
        "lgb_preds = []\n",
        "\n",
        "for fold_, (trn_idx, val_idx) in enumerate(skf.split(X, train.country)):\n",
        "    print(50*'-')\n",
        "    print('Fold:',fold_+1)\n",
        "\n",
        "    tr_x, tr_y = X.iloc[trn_idx,:], y[trn_idx] \n",
        "    vl_x, vl_y = X.iloc[val_idx,:], y[val_idx] \n",
        "        \n",
        "    train_data = lgb.Dataset(tr_x, label=tr_y,categorical_feature=CFG.categ_features)\n",
        "    valid_data = lgb.Dataset(vl_x, label=vl_y,categorical_feature=CFG.categ_features)\n",
        "\n",
        "    estimator = lgb.train(CFG.lgb_params,train_data,valid_sets = [train_data,valid_data],verbose_eval = 100)\n",
        "    \n",
        "    y_pred_val = estimator.predict(vl_x,num_iteration=estimator.best_iteration)\n",
        "    oof_lgb[val_idx] = y_pred_val\n",
        "    \n",
        "    y_pred_test = estimator.predict(test[features_columns],num_iteration=estimator.best_iteration)\n",
        "    lgb_preds.append(y_pred_test)\n",
        "    print(50*'-')\n",
        "\n",
        "print('OOF score :',roc_auc_score(y, oof_lgb))"
      ],
      "execution_count": 15,
      "outputs": [
        {
          "output_type": "stream",
          "text": [
            "--------------------------------------------------\n",
            "Fold: 1\n",
            "Training until validation scores don't improve for 100 rounds.\n",
            "[100]\ttraining's auc: 0.826008\tvalid_1's auc: 0.804411\n",
            "[200]\ttraining's auc: 0.840477\tvalid_1's auc: 0.804745\n",
            "Early stopping, best iteration is:\n",
            "[148]\ttraining's auc: 0.833437\tvalid_1's auc: 0.804972\n",
            "--------------------------------------------------\n",
            "--------------------------------------------------\n",
            "Fold: 2\n",
            "Training until validation scores don't improve for 100 rounds.\n",
            "[100]\ttraining's auc: 0.827208\tvalid_1's auc: 0.802313\n",
            "[200]\ttraining's auc: 0.841627\tvalid_1's auc: 0.802318\n",
            "Early stopping, best iteration is:\n",
            "[162]\ttraining's auc: 0.836818\tvalid_1's auc: 0.802506\n",
            "--------------------------------------------------\n",
            "--------------------------------------------------\n",
            "Fold: 3\n",
            "Training until validation scores don't improve for 100 rounds.\n",
            "[100]\ttraining's auc: 0.827657\tvalid_1's auc: 0.799289\n",
            "[200]\ttraining's auc: 0.841385\tvalid_1's auc: 0.798763\n",
            "Early stopping, best iteration is:\n",
            "[101]\ttraining's auc: 0.827767\tvalid_1's auc: 0.799335\n",
            "--------------------------------------------------\n",
            "--------------------------------------------------\n",
            "Fold: 4\n",
            "Training until validation scores don't improve for 100 rounds.\n",
            "[100]\ttraining's auc: 0.825873\tvalid_1's auc: 0.804852\n",
            "[200]\ttraining's auc: 0.839332\tvalid_1's auc: 0.805766\n",
            "Early stopping, best iteration is:\n",
            "[175]\ttraining's auc: 0.836456\tvalid_1's auc: 0.805982\n",
            "--------------------------------------------------\n",
            "--------------------------------------------------\n",
            "Fold: 5\n",
            "Training until validation scores don't improve for 100 rounds.\n",
            "[100]\ttraining's auc: 0.826701\tvalid_1's auc: 0.8044\n",
            "[200]\ttraining's auc: 0.840709\tvalid_1's auc: 0.804937\n",
            "[300]\ttraining's auc: 0.850985\tvalid_1's auc: 0.804597\n",
            "Early stopping, best iteration is:\n",
            "[236]\ttraining's auc: 0.844957\tvalid_1's auc: 0.805087\n",
            "--------------------------------------------------\n",
            "OOF score : 0.8035484429572574\n"
          ],
          "name": "stdout"
        }
      ]
    },
    {
      "cell_type": "code",
      "metadata": {
        "id": "dFkfWwaAH-c-"
      },
      "source": [
        "lightgbm_preds = np.mean(lgb_preds,axis=0)"
      ],
      "execution_count": 16,
      "outputs": []
    },
    {
      "cell_type": "markdown",
      "metadata": {
        "id": "EApbw1EmIziF"
      },
      "source": [
        "# **3- Submission**"
      ]
    },
    {
      "cell_type": "code",
      "metadata": {
        "trusted": true,
        "id": "rfKGEbPo2QJH"
      },
      "source": [
        "test['target'] =catboost_preds*0.5 +  lightgbm_preds*0.5 \n",
        "submission = test[['ID', 'target']]\n",
        "submission.to_csv('UmojaHack-Challenge#3-Top3-Solution.csv',index = False)"
      ],
      "execution_count": 17,
      "outputs": []
    }
  ]
}